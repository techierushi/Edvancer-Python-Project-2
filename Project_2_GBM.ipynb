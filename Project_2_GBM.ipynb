{
  "nbformat": 4,
  "nbformat_minor": 0,
  "metadata": {
    "colab": {
      "name": "Project_2 - GBM.ipynb",
      "provenance": [],
      "collapsed_sections": []
    },
    "kernelspec": {
      "name": "python3",
      "display_name": "Python 3"
    },
    "language_info": {
      "name": "python"
    }
  },
  "cells": [
    {
      "cell_type": "code",
      "metadata": {
        "id": "YjdDk0Ux4MZz"
      },
      "source": [
        "import pandas as pd\n",
        "import numpy as np\n",
        "import matplotlib.pyplot as plt\n",
        "%matplotlib inline\n",
        "import seaborn as sns\n",
        "import warnings\n",
        "warnings.filterwarnings('ignore')"
      ],
      "execution_count": 5,
      "outputs": []
    },
    {
      "cell_type": "code",
      "metadata": {
        "id": "HdSc_5-D4T-L"
      },
      "source": [
        "train_file = r\"/content/carvan_train.csv\"\n",
        "test_file = r\"/content/carvan_test.csv\""
      ],
      "execution_count": 6,
      "outputs": []
    },
    {
      "cell_type": "code",
      "metadata": {
        "id": "LXUNE6Nq4WHB"
      },
      "source": [
        "carvan_train = pd.read_csv(train_file)"
      ],
      "execution_count": 7,
      "outputs": []
    },
    {
      "cell_type": "code",
      "metadata": {
        "id": "NreXp3vA4YJX"
      },
      "source": [
        "carvan_test = pd.read_csv(test_file)"
      ],
      "execution_count": 8,
      "outputs": []
    },
    {
      "cell_type": "code",
      "metadata": {
        "id": "MNjTKrpD4ZoA"
      },
      "source": [
        "X = carvan_train.drop('V86',axis=1)\n",
        "y = carvan_train['V86']"
      ],
      "execution_count": 9,
      "outputs": []
    },
    {
      "cell_type": "code",
      "metadata": {
        "id": "U3ip4FJj4bLQ"
      },
      "source": [
        "from sklearn.ensemble import GradientBoostingClassifier"
      ],
      "execution_count": 10,
      "outputs": []
    },
    {
      "cell_type": "code",
      "metadata": {
        "id": "7p9xVCBO4c9w"
      },
      "source": [
        "clf_gbm = GradientBoostingClassifier()"
      ],
      "execution_count": 11,
      "outputs": []
    },
    {
      "cell_type": "code",
      "metadata": {
        "id": "zsJXcPqY4exo"
      },
      "source": [
        "param_grid = {'learning_rate': np.linspace(0.1, 2, 150), 'min_samples_leaf': list(range(20, 65))} "
      ],
      "execution_count": 12,
      "outputs": []
    },
    {
      "cell_type": "code",
      "metadata": {
        "id": "CTYwdRAu4wjH"
      },
      "source": [
        "from sklearn.model_selection import RandomizedSearchCV"
      ],
      "execution_count": 13,
      "outputs": []
    },
    {
      "cell_type": "code",
      "metadata": {
        "id": "nbuU53F15EE_"
      },
      "source": [
        "randomsearch = RandomizedSearchCV(\n",
        "    estimator = clf_gbm,\n",
        "    param_distributions = param_grid,\n",
        "    n_iter = 30,\n",
        "    scoring='roc_auc', n_jobs=4, cv = 5, refit=True, return_train_score = True)"
      ],
      "execution_count": 14,
      "outputs": []
    },
    {
      "cell_type": "code",
      "metadata": {
        "colab": {
          "base_uri": "https://localhost:8080/"
        },
        "id": "1v__J4cx5OT4",
        "outputId": "6ae018c3-cd4c-43e2-fa18-aca76c6aeb1f"
      },
      "source": [
        "randomsearch.fit(X,y)"
      ],
      "execution_count": 15,
      "outputs": [
        {
          "output_type": "execute_result",
          "data": {
            "text/plain": [
              "RandomizedSearchCV(cv=5, error_score=nan,\n",
              "                   estimator=GradientBoostingClassifier(ccp_alpha=0.0,\n",
              "                                                        criterion='friedman_mse',\n",
              "                                                        init=None,\n",
              "                                                        learning_rate=0.1,\n",
              "                                                        loss='deviance',\n",
              "                                                        max_depth=3,\n",
              "                                                        max_features=None,\n",
              "                                                        max_leaf_nodes=None,\n",
              "                                                        min_impurity_decrease=0.0,\n",
              "                                                        min_impurity_split=None,\n",
              "                                                        min_samples_leaf=1,\n",
              "                                                        min_samples_split=2,\n",
              "                                                        min_weight_fraction_leaf=0.0,\n",
              "                                                        n_estimators=100,\n",
              "                                                        n_ite...\n",
              "       1.82147651, 1.83422819, 1.84697987, 1.85973154, 1.87248322,\n",
              "       1.8852349 , 1.89798658, 1.91073826, 1.92348993, 1.93624161,\n",
              "       1.94899329, 1.96174497, 1.97449664, 1.98724832, 2.        ]),\n",
              "                                        'min_samples_leaf': [20, 21, 22, 23, 24,\n",
              "                                                             25, 26, 27, 28, 29,\n",
              "                                                             30, 31, 32, 33, 34,\n",
              "                                                             35, 36, 37, 38, 39,\n",
              "                                                             40, 41, 42, 43, 44,\n",
              "                                                             45, 46, 47, 48, 49, ...]},\n",
              "                   pre_dispatch='2*n_jobs', random_state=None, refit=True,\n",
              "                   return_train_score=True, scoring='roc_auc', verbose=0)"
            ]
          },
          "metadata": {
            "tags": []
          },
          "execution_count": 15
        }
      ]
    },
    {
      "cell_type": "code",
      "metadata": {
        "colab": {
          "base_uri": "https://localhost:8080/"
        },
        "id": "SK9IVetG5Q1U",
        "outputId": "ef9e87cf-adb5-4416-fe88-b8d7ad5618d0"
      },
      "source": [
        "cutoffs=np.linspace(0.01,0.99,99)\n",
        "\n",
        "train_score=randomsearch.predict_proba(X)[:,1] \n",
        "\n",
        "real=y \n",
        "\n",
        "print(randomsearch.classes_)"
      ],
      "execution_count": 16,
      "outputs": [
        {
          "output_type": "stream",
          "text": [
            "[0 1]\n"
          ],
          "name": "stdout"
        }
      ]
    },
    {
      "cell_type": "code",
      "metadata": {
        "id": "bfkmVEDR5Wcu"
      },
      "source": [
        "FB_all=[]\n",
        "for cutoff in cutoffs:\n",
        "\n",
        " predicted=(train_score>cutoff).astype(int)\n",
        " TP=((predicted==1) & (real==1)).sum()\n",
        " TN=((predicted==0) & (real==0)).sum()\n",
        " FP=((predicted==1) & (real==0)).sum()\n",
        " FN=((predicted==0) & (real==1)).sum()\n",
        "\n",
        " P=TP+FN\n",
        " N=TN+FP\n",
        " \n",
        " Sn=TP/P\n",
        " Sp=TN/N\n",
        " \n",
        " precision=TP/(TP+FP)\n",
        " recall=Sn\n",
        "\n",
        " KS=(TP/P)-(FP/N)\n",
        "\n",
        " FB=(5*precision*recall)/((4*precision)+recall)\n",
        "\n",
        " FB_all.append(FB)"
      ],
      "execution_count": 17,
      "outputs": []
    },
    {
      "cell_type": "code",
      "metadata": {
        "colab": {
          "base_uri": "https://localhost:8080/"
        },
        "id": "cjqHYbYH6LV5",
        "outputId": "191eeb8c-729b-4566-d273-97bfe0c633f6"
      },
      "source": [
        "max(FB_all)"
      ],
      "execution_count": 18,
      "outputs": [
        {
          "output_type": "execute_result",
          "data": {
            "text/plain": [
              "0.5170921678926872"
            ]
          },
          "metadata": {
            "tags": []
          },
          "execution_count": 18
        }
      ]
    },
    {
      "cell_type": "code",
      "metadata": {
        "colab": {
          "base_uri": "https://localhost:8080/"
        },
        "id": "qUUcxZxL6OCz",
        "outputId": "73777fe3-6369-4413-ecec-b8d2dca7605a"
      },
      "source": [
        "mycutoff=cutoffs[FB_all==max(FB_all)][0]\n",
        "mycutoff"
      ],
      "execution_count": 19,
      "outputs": [
        {
          "output_type": "execute_result",
          "data": {
            "text/plain": [
              "0.09999999999999999"
            ]
          },
          "metadata": {
            "tags": []
          },
          "execution_count": 19
        }
      ]
    },
    {
      "cell_type": "code",
      "metadata": {
        "id": "RJ1V0-8c6SQC"
      },
      "source": [
        "test_score = randomsearch.predict_proba(carvan_test)[:,1]"
      ],
      "execution_count": 20,
      "outputs": []
    },
    {
      "cell_type": "code",
      "metadata": {
        "id": "XFwz2VhB6gbV"
      },
      "source": [
        "test_classes=(test_score>mycutoff).astype(int)"
      ],
      "execution_count": 21,
      "outputs": []
    },
    {
      "cell_type": "code",
      "metadata": {
        "colab": {
          "base_uri": "https://localhost:8080/"
        },
        "id": "pLQT_ybM6iGB",
        "outputId": "caf74a38-5558-49b9-bb06-2e3ac594adb4"
      },
      "source": [
        "test_score"
      ],
      "execution_count": 22,
      "outputs": [
        {
          "output_type": "execute_result",
          "data": {
            "text/plain": [
              "array([0.01277817, 0.2833979 , 0.10229143, ..., 0.08808139, 0.08187938,\n",
              "       0.03601551])"
            ]
          },
          "metadata": {
            "tags": []
          },
          "execution_count": 22
        }
      ]
    },
    {
      "cell_type": "code",
      "metadata": {
        "colab": {
          "base_uri": "https://localhost:8080/"
        },
        "id": "o2MTGbVk6kKC",
        "outputId": "becce398-5fd3-4db3-f8c2-550969297c4e"
      },
      "source": [
        "test_classes"
      ],
      "execution_count": 23,
      "outputs": [
        {
          "output_type": "execute_result",
          "data": {
            "text/plain": [
              "array([0, 1, 1, ..., 0, 0, 0])"
            ]
          },
          "metadata": {
            "tags": []
          },
          "execution_count": 23
        }
      ]
    },
    {
      "cell_type": "code",
      "metadata": {
        "id": "VKaiUbrd6m66"
      },
      "source": [
        "pd.DataFrame(test_classes).to_csv(\"Rushikesh_Shinde_P2_part2.csv\",index=False)"
      ],
      "execution_count": 24,
      "outputs": []
    },
    {
      "cell_type": "code",
      "metadata": {
        "id": "auNNZ99-6sso"
      },
      "source": [
        ""
      ],
      "execution_count": null,
      "outputs": []
    }
  ]
}